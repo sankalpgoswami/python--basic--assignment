{
 "cells": [
  {
   "cell_type": "markdown",
   "id": "a0f51367",
   "metadata": {},
   "source": [
    "__Q1. Why are functions advantageous to have in your programs?__"
   ]
  },
  {
   "cell_type": "markdown",
   "id": "da939b31",
   "metadata": {},
   "source": [
    "Functions reduce the need for duplicate code. This makes programs shorter, easier to read, and easier to update."
   ]
  },
  {
   "cell_type": "markdown",
   "id": "d8e40936",
   "metadata": {},
   "source": [
    "__Q2. When does the code in a function run:when it's specified or when it's called?__"
   ]
  },
  {
   "cell_type": "markdown",
   "id": "fb3fdada",
   "metadata": {},
   "source": [
    "Code in the function runs when the function is called"
   ]
  },
  {
   "cell_type": "markdown",
   "id": "97a5e81e",
   "metadata": {},
   "source": [
    "__3. What statement creates a function?__"
   ]
  },
  {
   "cell_type": "markdown",
   "id": "a23250fc",
   "metadata": {},
   "source": [
    "The def statement defines (i.e. creates) a function.\n",
    "Eg .\n",
    "def my_func():\n",
    "pass"
   ]
  },
  {
   "cell_type": "markdown",
   "id": "8937e2ee",
   "metadata": {},
   "source": [
    "__4.What is the difference between a function and a function call?__"
   ]
  },
  {
   "cell_type": "markdown",
   "id": "aa92d524",
   "metadata": {},
   "source": [
    "function is a pre-coded task which will only perform if it is called. this is where function call comes into picture to achieve the task."
   ]
  },
  {
   "cell_type": "markdown",
   "id": "56ea8a60",
   "metadata": {},
   "source": [
    "__5. How many global scopes are there in a Python program? How many local scopes?__"
   ]
  },
  {
   "cell_type": "markdown",
   "id": "76a7864d",
   "metadata": {},
   "source": [
    ".There's only one global Python scope per program execution. This scope remains in existence until the program terminates , and a local scope is created whenever a function is called."
   ]
  },
  {
   "cell_type": "markdown",
   "id": "388aefff",
   "metadata": {},
   "source": [
    "__Q6. What happens to variables in a local scope when the function call returns?__"
   ]
  },
  {
   "cell_type": "markdown",
   "id": "7325f785",
   "metadata": {},
   "source": [
    "When a function returns, the local scope is destroyed."
   ]
  },
  {
   "cell_type": "markdown",
   "id": "80b4a3f2",
   "metadata": {},
   "source": [
    "__Q7. What is the concept of a return value? Is it possible to have a return value in an expression?__"
   ]
  },
  {
   "cell_type": "markdown",
   "id": "c2384ed1",
   "metadata": {},
   "source": [
    "return value is a special statement in a function which is used to sent result to caller who called function.\n",
    "\n",
    "yes it is possible to have return value in an expression."
   ]
  },
  {
   "cell_type": "markdown",
   "id": "32ef095e",
   "metadata": {},
   "source": [
    "__Q8. If a function does not have a return statement, what is the return value of a call to that function?__"
   ]
  },
  {
   "cell_type": "markdown",
   "id": "5cd035a4",
   "metadata": {},
   "source": [
    "If the funtion does not have a return statement it will not return anything."
   ]
  },
  {
   "cell_type": "markdown",
   "id": "11679710",
   "metadata": {},
   "source": [
    "__Q9. How do you make a function variable refer to the global variable?__"
   ]
  },
  {
   "cell_type": "markdown",
   "id": "5620b097",
   "metadata": {},
   "source": [
    "To make function variable as a global variable you can use the global keyword to declare which variables are global."
   ]
  },
  {
   "cell_type": "markdown",
   "id": "99e72ebe",
   "metadata": {},
   "source": [
    "__10. What is the data type of None?__"
   ]
  },
  {
   "cell_type": "code",
   "execution_count": null,
   "id": "9ea7ebd3",
   "metadata": {},
   "outputs": [],
   "source": [
    "type(none) "
   ]
  },
  {
   "cell_type": "markdown",
   "id": "aaaddc02",
   "metadata": {},
   "source": [
    "__11. What does the sentence import areallyourpetsnamederic do?__"
   ]
  },
  {
   "cell_type": "markdown",
   "id": "6be9b5f9",
   "metadata": {},
   "source": [
    "it will import areallyourpetnamederic module."
   ]
  },
  {
   "cell_type": "markdown",
   "id": "92f06d19",
   "metadata": {},
   "source": [
    "__Q12. If you had a bacon() feature in a spam module, what would you call it after importing spam?__"
   ]
  },
  {
   "cell_type": "markdown",
   "id": "4940650d",
   "metadata": {},
   "source": [
    "spam.bacon()"
   ]
  },
  {
   "cell_type": "markdown",
   "id": "0b7e62d1",
   "metadata": {},
   "source": [
    "__13. What can you do to save a programme from crashing if it encounters an error?__"
   ]
  },
  {
   "cell_type": "markdown",
   "id": "dbd5221b",
   "metadata": {},
   "source": [
    " We can use try except clause to save a program from crashing.\n",
    "\n"
   ]
  },
  {
   "cell_type": "markdown",
   "id": "544ec1e8",
   "metadata": {},
   "source": [
    "__14. What is the purpose of the try clause? What is the purpose of the except clause?__"
   ]
  },
  {
   "cell_type": "markdown",
   "id": "b9be1c34",
   "metadata": {},
   "source": [
    "\n",
    "Try and Except statement is used to handle these errors within our code in Python. The try block is used to check some code for errors i.e the code inside the try block will execute when there is no error in the program. Whereas the code inside the except block will execute whenever the program encounters some error in the preceding try block."
   ]
  },
  {
   "cell_type": "code",
   "execution_count": null,
   "id": "b2745f7d",
   "metadata": {},
   "outputs": [],
   "source": []
  }
 ],
 "metadata": {
  "kernelspec": {
   "display_name": "Python 3 (ipykernel)",
   "language": "python",
   "name": "python3"
  },
  "language_info": {
   "codemirror_mode": {
    "name": "ipython",
    "version": 3
   },
   "file_extension": ".py",
   "mimetype": "text/x-python",
   "name": "python",
   "nbconvert_exporter": "python",
   "pygments_lexer": "ipython3",
   "version": "3.9.12"
  }
 },
 "nbformat": 4,
 "nbformat_minor": 5
}
