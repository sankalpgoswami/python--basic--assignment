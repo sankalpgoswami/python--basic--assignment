{
 "cells": [
  {
   "cell_type": "markdown",
   "id": "97e0f18b",
   "metadata": {},
   "source": [
    "__1. What are escape characters, and how do you use them?\n",
    "Backslash \" \\ \" is a special character used to represent certain whitespace character like \\n, \\t, \\r__"
   ]
  },
  {
   "cell_type": "markdown",
   "id": "c851877b",
   "metadata": {},
   "source": [
    "In Python strings, the backslash \"\\\" is a special character, also called the \"escape\" character. It is used in representing certain whitespace characters: \"\\t\" is a tab, \"\\n\" is a newline, and \"\\r\" is a carriage return"
   ]
  },
  {
   "cell_type": "code",
   "execution_count": 1,
   "id": "7d907fae",
   "metadata": {},
   "outputs": [
    {
     "name": "stdout",
     "output_type": "stream",
     "text": [
      " this is sankalp goswami\n"
     ]
    }
   ],
   "source": [
    "print(\" this is sankalp \\\n",
    "goswami\")"
   ]
  },
  {
   "cell_type": "markdown",
   "id": "c4c7b45e",
   "metadata": {},
   "source": [
    "__2. What do the escape characters n and t stand for?__"
   ]
  },
  {
   "cell_type": "markdown",
   "id": "695e911f",
   "metadata": {},
   "source": [
    "\"\\t\" is a tab, \"\\n\" is a newline"
   ]
  },
  {
   "cell_type": "markdown",
   "id": "0890760c",
   "metadata": {},
   "source": [
    "__-3. What is the way to include backslash characters in a string?__"
   ]
  },
  {
   "cell_type": "markdown",
   "id": "5ac5cd5e",
   "metadata": {},
   "source": [
    "we can use \\\\."
   ]
  },
  {
   "cell_type": "markdown",
   "id": "2a13a72a",
   "metadata": {},
   "source": [
    "__4. The string \"Howl's Moving Castle\" is a correct value. Why isn't the single quote character in the word Howl's not escaped a problem?__"
   ]
  },
  {
   "cell_type": "code",
   "execution_count": 2,
   "id": "bcfc5c4f",
   "metadata": {},
   "outputs": [
    {
     "name": "stdout",
     "output_type": "stream",
     "text": [
      "Howl's Moving Castle\n"
     ]
    }
   ],
   "source": [
    "print(\"Howl's Moving Castle\") #because of double quotes."
   ]
  },
  {
   "cell_type": "markdown",
   "id": "b2ea0c65",
   "metadata": {},
   "source": [
    "__5. How do you write a string of newlines if you don't want to use the n character?__"
   ]
  },
  {
   "cell_type": "code",
   "execution_count": 4,
   "id": "79e1a713",
   "metadata": {},
   "outputs": [
    {
     "name": "stdout",
     "output_type": "stream",
     "text": [
      "sanklap\n",
      "goswami\n",
      "c.g\n"
     ]
    }
   ],
   "source": [
    "print(\"sanklap\", end = \"\\n\")\n",
    "print(\"goswami\")\n",
    "print(\"c.g\")"
   ]
  },
  {
   "cell_type": "markdown",
   "id": "78dfb5f4",
   "metadata": {},
   "source": [
    "___-6. What are the values of the given expressions?__"
   ]
  },
  {
   "cell_type": "markdown",
   "id": "1820a43c",
   "metadata": {},
   "source": [
    " 'Hello, world!'[1] 'Hello, world!'[0:5] 'Hello, world!'[:5] 'Hello, world!'[3:]"
   ]
  },
  {
   "cell_type": "code",
   "execution_count": 9,
   "id": "9dddf020",
   "metadata": {},
   "outputs": [
    {
     "data": {
      "text/plain": [
       "'e'"
      ]
     },
     "execution_count": 9,
     "metadata": {},
     "output_type": "execute_result"
    }
   ],
   "source": [
    "'hello,world!'[1]"
   ]
  },
  {
   "cell_type": "code",
   "execution_count": 12,
   "id": "064fddb3",
   "metadata": {},
   "outputs": [
    {
     "data": {
      "text/plain": [
       "'hello'"
      ]
     },
     "execution_count": 12,
     "metadata": {},
     "output_type": "execute_result"
    }
   ],
   "source": [
    "'hello,world!'[0:5]"
   ]
  },
  {
   "cell_type": "code",
   "execution_count": 13,
   "id": "9918a455",
   "metadata": {},
   "outputs": [
    {
     "data": {
      "text/plain": [
       "'hello'"
      ]
     },
     "execution_count": 13,
     "metadata": {},
     "output_type": "execute_result"
    }
   ],
   "source": [
    "'hello,world!'[:5]"
   ]
  },
  {
   "cell_type": "code",
   "execution_count": 14,
   "id": "e0f5cf17",
   "metadata": {},
   "outputs": [
    {
     "data": {
      "text/plain": [
       "'lo,world!'"
      ]
     },
     "execution_count": 14,
     "metadata": {},
     "output_type": "execute_result"
    }
   ],
   "source": [
    "'hello,world!'[3:]"
   ]
  },
  {
   "cell_type": "markdown",
   "id": "3b88ec8e",
   "metadata": {},
   "source": [
    "__7. What are the values of the following expressions?__"
   ]
  },
  {
   "cell_type": "code",
   "execution_count": 16,
   "id": "92e5a482",
   "metadata": {},
   "outputs": [
    {
     "data": {
      "text/plain": [
       "'hello'"
      ]
     },
     "execution_count": 16,
     "metadata": {},
     "output_type": "execute_result"
    }
   ],
   "source": [
    "'Hello'.upper()\n",
    "'Hello'.upper().isupper()\n",
    "'Hello'.upper().lower()\n"
   ]
  },
  {
   "cell_type": "code",
   "execution_count": 19,
   "id": "97a72d48",
   "metadata": {},
   "outputs": [
    {
     "data": {
      "text/plain": [
       "'HELLO'"
      ]
     },
     "execution_count": 19,
     "metadata": {},
     "output_type": "execute_result"
    }
   ],
   "source": [
    "'Hello'.upper()"
   ]
  },
  {
   "cell_type": "code",
   "execution_count": 21,
   "id": "e87ff04f",
   "metadata": {},
   "outputs": [
    {
     "data": {
      "text/plain": [
       "True"
      ]
     },
     "execution_count": 21,
     "metadata": {},
     "output_type": "execute_result"
    }
   ],
   "source": [
    "'Hello'.upper().isupper()"
   ]
  },
  {
   "cell_type": "code",
   "execution_count": 22,
   "id": "2248f799",
   "metadata": {},
   "outputs": [
    {
     "data": {
      "text/plain": [
       "'hello'"
      ]
     },
     "execution_count": 22,
     "metadata": {},
     "output_type": "execute_result"
    }
   ],
   "source": [
    "'Hello'.upper().lower()"
   ]
  },
  {
   "cell_type": "markdown",
   "id": "2b300294",
   "metadata": {},
   "source": [
    "__8. What are the values of the following expressions?\n",
    "'Remember, remember, the fifth of July.'.split()\n",
    "'-'.join('There can only one.'.split()__"
   ]
  },
  {
   "cell_type": "code",
   "execution_count": 23,
   "id": "a7b0202c",
   "metadata": {},
   "outputs": [
    {
     "data": {
      "text/plain": [
       "['Remember,', 'remember,', 'the', 'fifth', 'of', 'July.']"
      ]
     },
     "execution_count": 23,
     "metadata": {},
     "output_type": "execute_result"
    }
   ],
   "source": [
    " 'Remember, remember, the fifth of July.'.split()"
   ]
  },
  {
   "cell_type": "code",
   "execution_count": 25,
   "id": "79295602",
   "metadata": {},
   "outputs": [
    {
     "data": {
      "text/plain": [
       "'There-can-only-one.'"
      ]
     },
     "execution_count": 25,
     "metadata": {},
     "output_type": "execute_result"
    }
   ],
   "source": [
    "'-'.join('There can only one.'.split())"
   ]
  },
  {
   "cell_type": "markdown",
   "id": "c74f7190",
   "metadata": {},
   "source": [
    "__9. What are the methods for right-justifying, left-justifying, and centering a string?__"
   ]
  },
  {
   "cell_type": "code",
   "execution_count": 26,
   "id": "cd0850b0",
   "metadata": {},
   "outputs": [
    {
     "data": {
      "text/plain": [
       "'sankalp%%%%%%%%%%%%%'"
      ]
     },
     "execution_count": 26,
     "metadata": {},
     "output_type": "execute_result"
    }
   ],
   "source": [
    "str = \"sankalp\"\n",
    "str.ljust(20,\"%\")"
   ]
  },
  {
   "cell_type": "code",
   "execution_count": 27,
   "id": "86e392dc",
   "metadata": {},
   "outputs": [
    {
     "data": {
      "text/plain": [
       "'!!!sankalp'"
      ]
     },
     "execution_count": 27,
     "metadata": {},
     "output_type": "execute_result"
    }
   ],
   "source": [
    "str = \"sankalp\"\n",
    "str.rjust(10,\"!\")"
   ]
  },
  {
   "cell_type": "code",
   "execution_count": 28,
   "id": "7e94d29e",
   "metadata": {},
   "outputs": [
    {
     "data": {
      "text/plain": [
       "'*********************sanklap *********************'"
      ]
     },
     "execution_count": 28,
     "metadata": {},
     "output_type": "execute_result"
    }
   ],
   "source": [
    "str = \"sanklap \"\n",
    "str.center(50,\"*\")"
   ]
  },
  {
   "cell_type": "markdown",
   "id": "5fe64923",
   "metadata": {},
   "source": [
    "__10. What is the best way to remove whitespace characters from the start or end?__"
   ]
  },
  {
   "cell_type": "code",
   "execution_count": 41,
   "id": "0347538b",
   "metadata": {},
   "outputs": [
    {
     "data": {
      "text/plain": [
       "'sankalpgoswami'"
      ]
     },
     "execution_count": 41,
     "metadata": {},
     "output_type": "execute_result"
    }
   ],
   "source": [
    "string = \"sankalp  goswami\"\n",
    "string.replace(\"  \",\"\")"
   ]
  },
  {
   "cell_type": "code",
   "execution_count": null,
   "id": "357e0eae",
   "metadata": {},
   "outputs": [],
   "source": []
  }
 ],
 "metadata": {
  "kernelspec": {
   "display_name": "Python 3 (ipykernel)",
   "language": "python",
   "name": "python3"
  },
  "language_info": {
   "codemirror_mode": {
    "name": "ipython",
    "version": 3
   },
   "file_extension": ".py",
   "mimetype": "text/x-python",
   "name": "python",
   "nbconvert_exporter": "python",
   "pygments_lexer": "ipython3",
   "version": "3.9.12"
  }
 },
 "nbformat": 4,
 "nbformat_minor": 5
}
