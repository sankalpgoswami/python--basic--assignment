{
 "cells": [
  {
   "cell_type": "markdown",
   "id": "4caf3fdf",
   "metadata": {},
   "source": [
    "__1. To what does a relative path refer?__"
   ]
  },
  {
   "cell_type": "markdown",
   "id": "d8807834",
   "metadata": {},
   "source": [
    "relative path shows current working directory path\n",
    "\n",
    "for me it is: Python Basic Assignments\\Assignment_9.ipynb"
   ]
  },
  {
   "cell_type": "code",
   "execution_count": 2,
   "id": "09c5abad",
   "metadata": {},
   "outputs": [
    {
     "data": {
      "text/plain": [
       "'E:\\\\data science\\\\ineuron full stack DS\\\\Assignments\\\\PythonBasicAssignments\\\\Assignment_p.ipynb'"
      ]
     },
     "execution_count": 2,
     "metadata": {},
     "output_type": "execute_result"
    }
   ],
   "source": [
    "import os\n",
    "path = 'E:\\data science\\ineuron full stack DS\\Assignments\\PythonBasicAssignments\\Assignment_p.ipynb'\n",
    "os.path.realpath(path)"
   ]
  },
  {
   "cell_type": "markdown",
   "id": "eb2165c9",
   "metadata": {},
   "source": [
    "__2. What does an absolute path start with your operating system?__"
   ]
  },
  {
   "cell_type": "markdown",
   "id": "888025b2",
   "metadata": {},
   "source": [
    "absolute path = pwd + relative path\n",
    "\n",
    "absolute path always starts with rootdi directory"
   ]
  },
  {
   "cell_type": "code",
   "execution_count": 3,
   "id": "5268efb7",
   "metadata": {},
   "outputs": [
    {
     "data": {
      "text/plain": [
       "'E:\\\\data science\\\\ineuron full stack DS\\\\Assignments\\\\PythonBasicAssignments\\\\Assignment_p.ipynb'"
      ]
     },
     "execution_count": 3,
     "metadata": {},
     "output_type": "execute_result"
    }
   ],
   "source": [
    "os.path.abspath(path)"
   ]
  },
  {
   "cell_type": "markdown",
   "id": "5efcccac",
   "metadata": {},
   "source": [
    "__3. What do the functions os.getcwd() and os.chdir() do?__"
   ]
  },
  {
   "cell_type": "markdown",
   "id": "d99b23f4",
   "metadata": {},
   "source": [
    "os.chdir() performs change directory\n",
    "\n",
    "os.getcwd() gives current working directory"
   ]
  },
  {
   "cell_type": "markdown",
   "id": "dea23b95",
   "metadata": {},
   "source": [
    "__4. What are the . and .. folders?__"
   ]
  },
  {
   "cell_type": "markdown",
   "id": "0f048dd5",
   "metadata": {},
   "source": [
    "(.) = this directory\n",
    "(..)= parent directory"
   ]
  },
  {
   "cell_type": "markdown",
   "id": "bbfd3fde",
   "metadata": {},
   "source": [
    "__5. In C:\\bacon\\eggs\\spam.txt, which part is the dir name, and which part is the base name?__"
   ]
  },
  {
   "cell_type": "markdown",
   "id": "3b6a60d6",
   "metadata": {},
   "source": [
    "C:\\bacon\\eggs --> dir name\n",
    "\n",
    "spam.txt --> base name"
   ]
  },
  {
   "cell_type": "markdown",
   "id": "cdf6ea45",
   "metadata": {},
   "source": [
    "__6. What are the three “mode” arguments that can be passed to the open() function?__"
   ]
  },
  {
   "cell_type": "markdown",
   "id": "32dae07b",
   "metadata": {},
   "source": [
    "1. 'r' --> open for reading in text mode.\n",
    "2. 'w' --> open for writing.\n",
    "3. 'a' --> open for appending."
   ]
  },
  {
   "cell_type": "markdown",
   "id": "e23e44db",
   "metadata": {},
   "source": [
    "__7. What happens if an existing file is opened in write mode?__"
   ]
  },
  {
   "cell_type": "markdown",
   "id": "d0d1563f",
   "metadata": {},
   "source": [
    "when an existing file is opened in write mode previous content is erased and file is treated as new empty file."
   ]
  },
  {
   "cell_type": "markdown",
   "id": "2eed7243",
   "metadata": {},
   "source": [
    "__8. How do you tell the difference between read() and readlines()?__"
   ]
  },
  {
   "cell_type": "markdown",
   "id": "7fae5ecc",
   "metadata": {},
   "source": [
    "read() --> it iterates over each character.\n",
    "\n",
    "readlines() --> read only single line of the file."
   ]
  },
  {
   "cell_type": "markdown",
   "id": "009d90f4",
   "metadata": {},
   "source": [
    "__9. What data structure does a shelf value resemble?__"
   ]
  },
  {
   "cell_type": "markdown",
   "id": "5532c6e4",
   "metadata": {},
   "source": [
    "dictonary"
   ]
  },
  {
   "cell_type": "code",
   "execution_count": null,
   "id": "db6c6d05",
   "metadata": {},
   "outputs": [],
   "source": []
  }
 ],
 "metadata": {
  "kernelspec": {
   "display_name": "Python 3 (ipykernel)",
   "language": "python",
   "name": "python3"
  },
  "language_info": {
   "codemirror_mode": {
    "name": "ipython",
    "version": 3
   },
   "file_extension": ".py",
   "mimetype": "text/x-python",
   "name": "python",
   "nbconvert_exporter": "python",
   "pygments_lexer": "ipython3",
   "version": "3.9.12"
  }
 },
 "nbformat": 4,
 "nbformat_minor": 5
}
