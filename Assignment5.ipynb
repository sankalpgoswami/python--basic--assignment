{
 "cells": [
  {
   "cell_type": "markdown",
   "id": "a8ac73fc",
   "metadata": {},
   "source": [
    "__1. What does an empty dictionary's code look like?__"
   ]
  },
  {
   "cell_type": "markdown",
   "id": "9820978f",
   "metadata": {},
   "source": [
    "d = {}"
   ]
  },
  {
   "cell_type": "markdown",
   "id": "a384cb65",
   "metadata": {},
   "source": [
    "__2. What is the value of a dictionary value with the key 'foo' and the value 42?__"
   ]
  },
  {
   "cell_type": "code",
   "execution_count": 2,
   "id": "8d72988f",
   "metadata": {},
   "outputs": [
    {
     "data": {
      "text/plain": [
       "{'foo': 42}"
      ]
     },
     "execution_count": 2,
     "metadata": {},
     "output_type": "execute_result"
    }
   ],
   "source": [
    "d = {'foo':42}\n",
    "d"
   ]
  },
  {
   "cell_type": "markdown",
   "id": "164907f1",
   "metadata": {},
   "source": [
    "__3. What is the most significant distinction between a dictionary and a list?__"
   ]
  },
  {
   "cell_type": "markdown",
   "id": "8aee2b22",
   "metadata": {},
   "source": [
    "dictionary has a key value pair as one entity list is contained of idividual elements"
   ]
  },
  {
   "cell_type": "markdown",
   "id": "3eabd13e",
   "metadata": {},
   "source": [
    "__4. What happens if you try to access spam['foo'] if spam is {'bar': 100}?__"
   ]
  },
  {
   "cell_type": "code",
   "execution_count": 3,
   "id": "45b8e214",
   "metadata": {},
   "outputs": [
    {
     "ename": "KeyError",
     "evalue": "'foo'",
     "output_type": "error",
     "traceback": [
      "\u001b[1;31m---------------------------------------------------------------------------\u001b[0m",
      "\u001b[1;31mKeyError\u001b[0m                                  Traceback (most recent call last)",
      "Input \u001b[1;32mIn [3]\u001b[0m, in \u001b[0;36m<cell line: 2>\u001b[1;34m()\u001b[0m\n\u001b[0;32m      1\u001b[0m spam \u001b[38;5;241m=\u001b[39m {\u001b[38;5;124m'\u001b[39m\u001b[38;5;124mbar\u001b[39m\u001b[38;5;124m'\u001b[39m: \u001b[38;5;241m100\u001b[39m}\n\u001b[1;32m----> 2\u001b[0m \u001b[43mspam\u001b[49m\u001b[43m[\u001b[49m\u001b[38;5;124;43m'\u001b[39;49m\u001b[38;5;124;43mfoo\u001b[39;49m\u001b[38;5;124;43m'\u001b[39;49m\u001b[43m]\u001b[49m\n",
      "\u001b[1;31mKeyError\u001b[0m: 'foo'"
     ]
    }
   ],
   "source": [
    "spam = {'bar': 100}\n",
    "spam['foo']# key error"
   ]
  },
  {
   "cell_type": "markdown",
   "id": "103cb88f",
   "metadata": {},
   "source": [
    "__5. If a dictionary is stored in spam, what is the difference between the expressions 'cat' in spam and 'cat' in spam.keys()?__"
   ]
  },
  {
   "cell_type": "code",
   "execution_count": 6,
   "id": "3bacb050",
   "metadata": {},
   "outputs": [
    {
     "data": {
      "text/plain": [
       "True"
      ]
     },
     "execution_count": 6,
     "metadata": {},
     "output_type": "execute_result"
    }
   ],
   "source": [
    "spam = {'cat' : 100 }\n",
    "'cat' in spam "
   ]
  },
  {
   "cell_type": "code",
   "execution_count": 7,
   "id": "ef1d9fcd",
   "metadata": {},
   "outputs": [
    {
     "data": {
      "text/plain": [
       "True"
      ]
     },
     "execution_count": 7,
     "metadata": {},
     "output_type": "execute_result"
    }
   ],
   "source": [
    "'cat' in spam.keys()"
   ]
  },
  {
   "cell_type": "markdown",
   "id": "05155819",
   "metadata": {},
   "source": [
    "__6. If a dictionary is stored in spam, what is the difference between the expressions 'cat' in spam and 'cat' in spam.keys()?__"
   ]
  },
  {
   "cell_type": "markdown",
   "id": "113eb206",
   "metadata": {},
   "source": [
    "if 'color' not in spam:\n",
    "\n",
    "spam['color'] = 'black'"
   ]
  },
  {
   "cell_type": "code",
   "execution_count": 8,
   "id": "caaee265",
   "metadata": {},
   "outputs": [
    {
     "data": {
      "text/plain": [
       "'black'"
      ]
     },
     "execution_count": 8,
     "metadata": {},
     "output_type": "execute_result"
    }
   ],
   "source": [
    "spam.setdefault('colour','black')"
   ]
  },
  {
   "cell_type": "markdown",
   "id": "618f443c",
   "metadata": {},
   "source": [
    "__7. How do you \"pretty print\" dictionary values using which module and function?__"
   ]
  },
  {
   "cell_type": "markdown",
   "id": "f84e190a",
   "metadata": {},
   "source": [
    "module = pprint\n",
    "\n",
    "function = pprint.pprint()"
   ]
  },
  {
   "cell_type": "code",
   "execution_count": null,
   "id": "145eff2b",
   "metadata": {},
   "outputs": [],
   "source": []
  }
 ],
 "metadata": {
  "kernelspec": {
   "display_name": "Python 3 (ipykernel)",
   "language": "python",
   "name": "python3"
  },
  "language_info": {
   "codemirror_mode": {
    "name": "ipython",
    "version": 3
   },
   "file_extension": ".py",
   "mimetype": "text/x-python",
   "name": "python",
   "nbconvert_exporter": "python",
   "pygments_lexer": "ipython3",
   "version": "3.9.12"
  }
 },
 "nbformat": 4,
 "nbformat_minor": 5
}
