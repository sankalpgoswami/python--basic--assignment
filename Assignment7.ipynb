{
 "cells": [
  {
   "cell_type": "markdown",
   "id": "140f5bb8",
   "metadata": {},
   "source": [
    "__1. What is the name of the feature responsible for generating Regex objects?__"
   ]
  },
  {
   "cell_type": "markdown",
   "id": "be57606c",
   "metadata": {},
   "source": [
    "re module is used for generation of Regex objects {re.compitle()}"
   ]
  },
  {
   "cell_type": "markdown",
   "id": "33606f5d",
   "metadata": {},
   "source": [
    "__2. Why do raw strings often appear in Regex objects?__"
   ]
  },
  {
   "cell_type": "markdown",
   "id": "1512744b",
   "metadata": {},
   "source": [
    "to prevent backslash from excaping."
   ]
  },
  {
   "cell_type": "markdown",
   "id": "43a3e64d",
   "metadata": {},
   "source": [
    "__3. What is the return value of the search() method?__"
   ]
  },
  {
   "cell_type": "markdown",
   "id": "982f0301",
   "metadata": {},
   "source": [
    "if it finds the pattern then it returns matchable object or else none."
   ]
  },
  {
   "cell_type": "markdown",
   "id": "b286a431",
   "metadata": {},
   "source": [
    "__4. From a Match item, how do you get the actual strings that match the pattern?__"
   ]
  },
  {
   "cell_type": "markdown",
   "id": "a3565048",
   "metadata": {},
   "source": [
    "if it finds the pattern then it returns matchable object or else none."
   ]
  },
  {
   "cell_type": "markdown",
   "id": "e900ea9b",
   "metadata": {},
   "source": [
    "__-5. In the regex which created from the r'(\\d\\d\\d)-(\\d\\d\\d-\\d\\d\\d\\d)', what does group zero cover? Group 2? Group 1?__"
   ]
  },
  {
   "cell_type": "markdown",
   "id": "191f6b55",
   "metadata": {},
   "source": [
    "group 0 covers whole part\n",
    "\n",
    "group 1 covers first part\n",
    "\n",
    "group 2 covers second part"
   ]
  },
  {
   "cell_type": "markdown",
   "id": "c10666ff",
   "metadata": {},
   "source": [
    "__6. In standard expression syntax, parentheses and intervals have distinct meanings. How can you tell a regex that you want it to fit real parentheses and periods?__"
   ]
  },
  {
   "cell_type": "markdown",
   "id": "0c51b119",
   "metadata": {},
   "source": [
    "\\.,\\(, and \\)"
   ]
  },
  {
   "cell_type": "markdown",
   "id": "b7c00f65",
   "metadata": {},
   "source": [
    "__7. The findall() method returns a string list or a list of string tuples. What causes it to return one of the two options?__"
   ]
  },
  {
   "cell_type": "markdown",
   "id": "86f23753",
   "metadata": {},
   "source": [
    " If the regex has no groups, a list of strings is returned. If the regex has groups, a list of tuples of strings is returned."
   ]
  },
  {
   "cell_type": "markdown",
   "id": "2eb8f040",
   "metadata": {},
   "source": [
    "__8. In standard expressions, what does the | character mean?__"
   ]
  },
  {
   "cell_type": "markdown",
   "id": "fb1e62a3",
   "metadata": {},
   "source": [
    "in standard ecpression \" | \" means Alternation"
   ]
  },
  {
   "cell_type": "markdown",
   "id": "92287d83",
   "metadata": {},
   "source": [
    "__9. In regular expressions, what does the ? character stand for?__"
   ]
  },
  {
   "cell_type": "markdown",
   "id": "fe93b62f",
   "metadata": {},
   "source": [
    "it stands for match zero or one of the preceding group"
   ]
  },
  {
   "cell_type": "markdown",
   "id": "54884928",
   "metadata": {},
   "source": [
    "__10.In regular expressions, what is the difference between the + and * characters?__"
   ]
  },
  {
   "cell_type": "markdown",
   "id": "57cfc3e8",
   "metadata": {},
   "source": [
    "   + means one or more\n",
    "     * means zero or more"
   ]
  },
  {
   "cell_type": "markdown",
   "id": "c55a1a8e",
   "metadata": {},
   "source": [
    "__11. What is t_-he difference between {4} and {4,5} in regular expression?__"
   ]
  },
  {
   "cell_type": "markdown",
   "id": "6ecc93c1",
   "metadata": {},
   "source": [
    "{4} Matches the expression to its left 4 times, and not less.\n",
    "\n",
    "{4,5) Matches the expression to its left 4 to 5 times, and not less."
   ]
  },
  {
   "cell_type": "markdown",
   "id": "0b354f6b",
   "metadata": {},
   "source": [
    "___12. What do you mean by the \\d, \\w, and \\s shorthand character classes signify in regular expressions?___"
   ]
  },
  {
   "cell_type": "markdown",
   "id": "a7a44336",
   "metadata": {},
   "source": [
    "\\d Matches digits, which means 0-9.\n",
    "\n",
    "\\w Matches alphanumeric characters, which means a-z, A-Z, and 0-9. It also matches the underscore, _.\n",
    "\n",
    "\\s Matches whitespace characters, which include the \\t, \\n, \\r, and space characters."
   ]
  },
  {
   "cell_type": "markdown",
   "id": "20a828b4",
   "metadata": {},
   "source": [
    "__13. What do means by \\D, \\W, and \\S shorthand character classes signify in regular expressions?__"
   ]
  },
  {
   "cell_type": "markdown",
   "id": "c55b7a2f",
   "metadata": {},
   "source": [
    "\\D - > Any character that is not a numeric digit from 0 to 9.\n",
    "\n",
    "\\W - > Any character that is not a letter, numeric digit, or the underscore character.\n",
    "\n",
    "\\S - > Any character that is not a space, tab, or newline.\n",
    "\n"
   ]
  },
  {
   "cell_type": "markdown",
   "id": "dcc797b7",
   "metadata": {},
   "source": [
    "___14. What is the difference between.*? and .* ___"
   ]
  },
  {
   "cell_type": "markdown",
   "id": "f05b6d34",
   "metadata": {},
   "source": [
    "The dot-star uses greedy mode: It will always try to match as much text as possible.\n",
    ".? - To match any and all text in a non-greedy fashion, use the dot, star, and question mark (.*?). Like with braces, the question mark tells Python to match in a non-greedy way."
   ]
  },
  {
   "cell_type": "markdown",
   "id": "62a3e3e4",
   "metadata": {},
   "source": [
    "__15. What is the syntax for matching both numbers and lowercase letters with a character class?__"
   ]
  },
  {
   "cell_type": "markdown",
   "id": "63d17889",
   "metadata": {},
   "source": [
    "Either [0-9a-z] or [a-z0-9]"
   ]
  },
  {
   "cell_type": "markdown",
   "id": "f35cc62a",
   "metadata": {},
   "source": [
    "__16. What is the procedure for making a normal expression in regax case insensitive?__"
   ]
  },
  {
   "cell_type": "markdown",
   "id": "95fe399b",
   "metadata": {},
   "source": [
    "use re.IGNORECASE to search, match, or sub"
   ]
  },
  {
   "cell_type": "markdown",
   "id": "7cafabc8",
   "metadata": {},
   "source": [
    "__17. What does the . character normally match? What does it match if re.DOTALL is passed as 2nd argument in re.compile()?__"
   ]
  },
  {
   "cell_type": "markdown",
   "id": "ebbfbaf8",
   "metadata": {},
   "source": [
    "The . character normally matches any character except the newline character. If re.DOTALL is passed as the second argument to re.compile(), then the dot will also match newline characters."
   ]
  },
  {
   "cell_type": "markdown",
   "id": "fb732c70",
   "metadata": {},
   "source": [
    "__18. If numReg = re.compile(r'\\d+'), what will numRegex.sub('X', '11 drummers, 10 pipers, five rings, 4 hen') return?__"
   ]
  },
  {
   "cell_type": "code",
   "execution_count": 11,
   "id": "c3429c19",
   "metadata": {},
   "outputs": [
    {
     "data": {
      "text/plain": [
       "'X drummers,X pipers,five rings, X hen'"
      ]
     },
     "execution_count": 11,
     "metadata": {},
     "output_type": "execute_result"
    }
   ],
   "source": [
    "import re\n",
    "re.compile(\"\")\n",
    "\n",
    "\n",
    "numRegex = re.compile(r'\\d+')\n",
    "mo = numRegex.sub('X','11 drummers,10 pipers,five rings, 4 hen')\n",
    "mo"
   ]
  },
  {
   "cell_type": "markdown",
   "id": "2c82ed92",
   "metadata": {},
   "source": [
    "__19. What does passing re.VERBOSE as the 2nd argument to re.compile() allow to do?__"
   ]
  },
  {
   "cell_type": "markdown",
   "id": "954f69c5",
   "metadata": {},
   "source": [
    "it will allow to add whitespace and comments to string passed to re.compile()."
   ]
  },
  {
   "cell_type": "markdown",
   "id": "2ed63cf8",
   "metadata": {},
   "source": [
    "__20. How would you write a regex that match a number with comma for every three digits? It must match the given following:\n",
    "'42'__"
   ]
  },
  {
   "cell_type": "code",
   "execution_count": null,
   "id": "a004ff43",
   "metadata": {},
   "outputs": [],
   "source": [
    "'42'\n",
    "'1,234'\n",
    "'6,368,745'\n",
    "but not the following:\n",
    "'12,34,567' (which has only two digits between the commas)\n",
    "'1234' (which lacks commas)\n",
    "\n"
   ]
  },
  {
   "cell_type": "code",
   "execution_count": 15,
   "id": "0fca8d66",
   "metadata": {},
   "outputs": [
    {
     "data": {
      "text/plain": [
       "re.compile(r'^\\d{1,3}(,\\d{3})*$', re.UNICODE)"
      ]
     },
     "execution_count": 15,
     "metadata": {},
     "output_type": "execute_result"
    }
   ],
   "source": [
    "re.compile(r'^\\d{1,3}(,\\d{3})*$')"
   ]
  },
  {
   "cell_type": "markdown",
   "id": "b9ab7378",
   "metadata": {},
   "source": [
    "__21. How would you write a regex that matches the full name of someone whose last name is Watanabe? You can assume that the first name that comes before it will always be one word that begins with a capital letter. The regex must match the following:__"
   ]
  },
  {
   "cell_type": "code",
   "execution_count": null,
   "id": "50ec8a29",
   "metadata": {},
   "outputs": [],
   "source": [
    "'Haruto Watanabe'\n",
    "'Alice Watanabe'\n",
    "'RoboCop Watanabe'\n",
    "but not the following:\n",
    "'haruto Watanabe' (where the first name is not capitalized)\n",
    "'Mr. Watanabe' (where the preceding word has a nonletter character)\n",
    "'Watanabe' (which has no first name)\n",
    "'Haruto watanabe' (where Watanabe is not capitalized)\n"
   ]
  },
  {
   "cell_type": "code",
   "execution_count": 14,
   "id": "36ef5bf5",
   "metadata": {},
   "outputs": [
    {
     "data": {
      "text/plain": [
       "re.compile(r'[A-Z][a-z]*\\sNakamoto', re.UNICODE)"
      ]
     },
     "execution_count": 14,
     "metadata": {},
     "output_type": "execute_result"
    }
   ],
   "source": [
    "re.compile(r'[A-Z][a-z]*\\sNakamoto')"
   ]
  },
  {
   "cell_type": "markdown",
   "id": "a06410ec",
   "metadata": {},
   "source": [
    "__22. How would you write a regex that matches a sentence where the first word is either Alice, Bob,or Carol; the second word is either eats, pets, or throws; the third word is apples, cats, or baseballs; and the sentence ends with a period? This regex should be case-insensitive. It must match the following:__"
   ]
  },
  {
   "cell_type": "code",
   "execution_count": null,
   "id": "4b605fb4",
   "metadata": {},
   "outputs": [],
   "source": [
    "'Alice eats apples.'\n",
    "\n",
    "'Bob pets cats.'\n",
    "\n",
    "'Carol throws baseballs.'\n",
    "\n",
    "'Alice throws Apples.'\n",
    "\n",
    "'BOB EATS CATS.'\n",
    "\n",
    "but not the following: 'RoboCop eats apples.'\n",
    "\n",
    "'ALICE THROWS FOOTBALLS.'\n",
    "\n",
    "'Carol eats 7 cats.'"
   ]
  },
  {
   "cell_type": "code",
   "execution_count": 13,
   "id": "c27f9917",
   "metadata": {},
   "outputs": [
    {
     "data": {
      "text/plain": [
       "re.compile(r'(Alice|Bob|Carol)\\s(eats|pets|throws)\\s(apples|cats|baseballs)\\.',\n",
       "           re.IGNORECASE|re.UNICODE)"
      ]
     },
     "execution_count": 13,
     "metadata": {},
     "output_type": "execute_result"
    }
   ],
   "source": [
    "re.compile(r'(Alice|Bob|Carol)\\s(eats|pets|throws)\\s(apples|cats|baseballs)\\.', re.IGNORECASE)"
   ]
  },
  {
   "cell_type": "code",
   "execution_count": null,
   "id": "d0187b1d",
   "metadata": {},
   "outputs": [],
   "source": []
  }
 ],
 "metadata": {
  "kernelspec": {
   "display_name": "Python 3 (ipykernel)",
   "language": "python",
   "name": "python3"
  },
  "language_info": {
   "codemirror_mode": {
    "name": "ipython",
    "version": 3
   },
   "file_extension": ".py",
   "mimetype": "text/x-python",
   "name": "python",
   "nbconvert_exporter": "python",
   "pygments_lexer": "ipython3",
   "version": "3.9.12"
  }
 },
 "nbformat": 4,
 "nbformat_minor": 5
}
