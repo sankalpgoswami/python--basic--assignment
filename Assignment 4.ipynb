{
 "cells": [
  {
   "cell_type": "markdown",
   "id": "363a9d80",
   "metadata": {},
   "source": [
    "__1. What exactly is [ ]?__"
   ]
  },
  {
   "cell_type": "markdown",
   "id": "4cc8756a",
   "metadata": {},
   "source": [
    " [ ] is a empty list, like a =[ ]"
   ]
  },
  {
   "cell_type": "markdown",
   "id": "c1983eb2",
   "metadata": {},
   "source": [
    "__2. In a list of values stored in a variable called spam, how would you assign the value hello' as the third value? (Assume [2, 4, 6, 8, 10] are in spam.)__"
   ]
  },
  {
   "cell_type": "code",
   "execution_count": 1,
   "id": "fc439b7d",
   "metadata": {},
   "outputs": [
    {
     "data": {
      "text/plain": [
       "[2, 4, 'hello', 8, 10]"
      ]
     },
     "execution_count": 1,
     "metadata": {},
     "output_type": "execute_result"
    }
   ],
   "source": [
    "spam= [2,4,5,8,10]\n",
    "spam[2]='hello'\n",
    "spam"
   ]
  },
  {
   "cell_type": "markdown",
   "id": "af48784c",
   "metadata": {},
   "source": [
    "__3. Let's pretend the spam includes the list ['a', 'b', 'c', 'd'] for the next three queries.__\n",
    "\n",
    "1.What is the value of spam [int(int('3' * 2) / 11)]?\n",
    "\n",
    "2.What is the value of spam [-1]?\n",
    "\n",
    "3.What is the value of spam [:2]?__"
   ]
  },
  {
   "cell_type": "code",
   "execution_count": 2,
   "id": "df154280",
   "metadata": {},
   "outputs": [],
   "source": [
    "spam =['a','b','c','d']\n"
   ]
  },
  {
   "cell_type": "code",
   "execution_count": 3,
   "id": "e6925184",
   "metadata": {},
   "outputs": [
    {
     "data": {
      "text/plain": [
       "'d'"
      ]
     },
     "execution_count": 3,
     "metadata": {},
     "output_type": "execute_result"
    }
   ],
   "source": [
    " spam[int(int('3' * 2) / 11)]"
   ]
  },
  {
   "cell_type": "code",
   "execution_count": 4,
   "id": "dfb7190b",
   "metadata": {},
   "outputs": [
    {
     "data": {
      "text/plain": [
       "'d'"
      ]
     },
     "execution_count": 4,
     "metadata": {},
     "output_type": "execute_result"
    }
   ],
   "source": [
    "spam[-1]"
   ]
  },
  {
   "cell_type": "code",
   "execution_count": 5,
   "id": "fbf02f57",
   "metadata": {},
   "outputs": [
    {
     "data": {
      "text/plain": [
       "['a', 'b']"
      ]
     },
     "execution_count": 5,
     "metadata": {},
     "output_type": "execute_result"
    }
   ],
   "source": [
    "spam[:2]"
   ]
  },
  {
   "cell_type": "markdown",
   "id": "e7cf1afe",
   "metadata": {},
   "source": [
    "__Let's pretend bacon has the list [3.14, 'cat,' 11, 'cat,' True] for the next three questions._-\n",
    "1. What is the value of bacon.index('cat')?\n",
    "2.How does bacon.append(99) change the look of the list value in bacon?\n",
    "3.How does bacon.remove('cat') change the look of the list in bacon?"
   ]
  },
  {
   "cell_type": "code",
   "execution_count": 6,
   "id": "414d3d94",
   "metadata": {},
   "outputs": [],
   "source": [
    "bacon = [3.14, 'cat' ,11, 'cat', True]"
   ]
  },
  {
   "cell_type": "code",
   "execution_count": 7,
   "id": "49a88422",
   "metadata": {},
   "outputs": [
    {
     "data": {
      "text/plain": [
       "1"
      ]
     },
     "execution_count": 7,
     "metadata": {},
     "output_type": "execute_result"
    }
   ],
   "source": [
    "bacon.index('cat')"
   ]
  },
  {
   "cell_type": "code",
   "execution_count": 8,
   "id": "59af017a",
   "metadata": {},
   "outputs": [
    {
     "data": {
      "text/plain": [
       "[3.14, 'cat', 11, 'cat', True, 99]"
      ]
     },
     "execution_count": 8,
     "metadata": {},
     "output_type": "execute_result"
    }
   ],
   "source": [
    "bacon.append(99)\n",
    "bacon"
   ]
  },
  {
   "cell_type": "code",
   "execution_count": 9,
   "id": "b7fb7aa7",
   "metadata": {},
   "outputs": [
    {
     "data": {
      "text/plain": [
       "[3.14, 11, 'cat', True, 99]"
      ]
     },
     "execution_count": 9,
     "metadata": {},
     "output_type": "execute_result"
    }
   ],
   "source": [
    "bacon.remove('cat')\n",
    "bacon"
   ]
  },
  {
   "cell_type": "markdown",
   "id": "bf44d429",
   "metadata": {},
   "source": [
    "__9. What are the list concatenation and list replication operators?__"
   ]
  },
  {
   "cell_type": "code",
   "execution_count": 11,
   "id": "e5fa8489",
   "metadata": {},
   "outputs": [
    {
     "data": {
      "text/plain": [
       "[1, 2, 3, 4, 5, 6, 7, 8]"
      ]
     },
     "execution_count": 11,
     "metadata": {},
     "output_type": "execute_result"
    }
   ],
   "source": [
    "l=[1,2,3,4,5]\n",
    "l1=[6,7,8]# list concatinatin \n",
    "l+l1"
   ]
  },
  {
   "cell_type": "code",
   "execution_count": 14,
   "id": "cba8c9db",
   "metadata": {},
   "outputs": [
    {
     "data": {
      "text/plain": [
       "[1, 2, 3, 4, 5, 1, 2, 3, 4, 5, 1, 2, 3, 4, 5]"
      ]
     },
     "execution_count": 14,
     "metadata": {},
     "output_type": "execute_result"
    }
   ],
   "source": [
    "l1 = [1, 2, 3, 4, 5]\n",
    "l2 = l1*3 # list replication\n",
    "l2 "
   ]
  },
  {
   "cell_type": "markdown",
   "id": "baf468a3",
   "metadata": {},
   "source": [
    "__10. What is difference between the list methods append() and insert()?__"
   ]
  },
  {
   "cell_type": "code",
   "execution_count": 23,
   "id": "41a979db",
   "metadata": {},
   "outputs": [
    {
     "data": {
      "text/plain": [
       "[1, 2, 3, 4, 5, 6]"
      ]
     },
     "execution_count": 23,
     "metadata": {},
     "output_type": "execute_result"
    }
   ],
   "source": [
    "l1 = [1, 2, 3, 4, 5]\n",
    "l1.append(6) #it adds element at the end and only one element can be added .\n",
    "l1"
   ]
  },
  {
   "cell_type": "code",
   "execution_count": 29,
   "id": "afca3299",
   "metadata": {},
   "outputs": [],
   "source": [
    "l1.insert(3,20) #inserting value in 4th index"
   ]
  },
  {
   "cell_type": "code",
   "execution_count": 30,
   "id": "8ca9acdc",
   "metadata": {},
   "outputs": [
    {
     "data": {
      "text/plain": [
       "[2, 3, 4, 20, 5, 6, 6]"
      ]
     },
     "execution_count": 30,
     "metadata": {},
     "output_type": "execute_result"
    }
   ],
   "source": [
    "l1 "
   ]
  },
  {
   "cell_type": "markdown",
   "id": "65919e14",
   "metadata": {},
   "source": [
    "__11. What are the two methods for removing items from a list?__"
   ]
  },
  {
   "cell_type": "code",
   "execution_count": 2,
   "id": "a787bbbd",
   "metadata": {
    "scrolled": false
   },
   "outputs": [
    {
     "name": "stdout",
     "output_type": "stream",
     "text": [
      "[1, 2, 3, 4, 5, 6]\n"
     ]
    },
    {
     "data": {
      "text/plain": [
       "[1, 2, 3, 5, 6]"
      ]
     },
     "execution_count": 2,
     "metadata": {},
     "output_type": "execute_result"
    }
   ],
   "source": [
    "# 1st method\n",
    "l1 = [1,2,3,4,5,6]\n",
    "print(l1)\n",
    "l1.remove(4)\n",
    "l1"
   ]
  },
  {
   "cell_type": "code",
   "execution_count": 4,
   "id": "376ec7d5",
   "metadata": {},
   "outputs": [
    {
     "name": "stdout",
     "output_type": "stream",
     "text": [
      "[1, 2, 3, 4, 5, 6]\n"
     ]
    },
    {
     "data": {
      "text/plain": [
       "[2, 3, 4, 5, 6]"
      ]
     },
     "execution_count": 4,
     "metadata": {},
     "output_type": "execute_result"
    }
   ],
   "source": [
    "# 2nd method\n",
    "l1 = [1,2,3,4,5,6]\n",
    "print(l1)\n",
    "l1.pop(0)\n",
    "l1"
   ]
  },
  {
   "cell_type": "markdown",
   "id": "be54bb0a",
   "metadata": {},
   "source": [
    "__12. Describe how list values and string values are identical.__\n"
   ]
  },
  {
   "cell_type": "markdown",
   "id": "d69c728d",
   "metadata": {},
   "source": [
    "both list and string are ordered collection of elements except in list it can contain different data types."
   ]
  },
  {
   "cell_type": "markdown",
   "id": "f63a7847",
   "metadata": {},
   "source": [
    "__13. What's the difference between tuples and lists?__"
   ]
  },
  {
   "cell_type": "markdown",
   "id": "416b7d70",
   "metadata": {},
   "source": [
    "Lists : are mutable - they can have values added, removed, or changed. lists use the square brackets, [ and ]\n",
    "Tuples : are immutable; they cannot be changed at all. Tuples are written using parentheses, ( and )"
   ]
  },
  {
   "cell_type": "markdown",
   "id": "9bfb538b",
   "metadata": {},
   "source": [
    "__4. How do you type a tuple value that only contains the integer 42?__"
   ]
  },
  {
   "cell_type": "code",
   "execution_count": 6,
   "id": "6118093f",
   "metadata": {},
   "outputs": [
    {
     "data": {
      "text/plain": [
       "(42,)"
      ]
     },
     "execution_count": 6,
     "metadata": {},
     "output_type": "execute_result"
    }
   ],
   "source": [
    "tuple = (42,)\n",
    "tuple"
   ]
  },
  {
   "cell_type": "markdown",
   "id": "7017656e",
   "metadata": {},
   "source": [
    "__15. How do you get a list value's tuple form? How do you get a tuple value's list form?__"
   ]
  },
  {
   "cell_type": "code",
   "execution_count": 13,
   "id": "3894beed",
   "metadata": {},
   "outputs": [
    {
     "data": {
      "text/plain": [
       "[3, 4]"
      ]
     },
     "execution_count": 13,
     "metadata": {},
     "output_type": "execute_result"
    }
   ],
   "source": [
    "t1 = (3,4)\n",
    "t = list(t1)\n",
    "t"
   ]
  },
  {
   "cell_type": "markdown",
   "id": "e2b02a07",
   "metadata": {},
   "source": [
    "__16. Variables that \"contain\" list values are not necessarily lists themselves. Instead, what do they contain?__"
   ]
  },
  {
   "cell_type": "markdown",
   "id": "bf43d00b",
   "metadata": {},
   "source": [
    " They contain references to list values"
   ]
  },
  {
   "cell_type": "markdown",
   "id": "e03bff9b",
   "metadata": {},
   "source": [
    "__17. How do you distinguish between copy.copy() and copy.deepcopy()?__"
   ]
  },
  {
   "cell_type": "markdown",
   "id": "93ed3faa",
   "metadata": {},
   "source": [
    "deepcopy does not change original object if in future we change deepcopied object. where as original object changes with copy()"
   ]
  },
  {
   "cell_type": "code",
   "execution_count": null,
   "id": "dfbfbcd4",
   "metadata": {},
   "outputs": [],
   "source": []
  }
 ],
 "metadata": {
  "kernelspec": {
   "display_name": "Python 3 (ipykernel)",
   "language": "python",
   "name": "python3"
  },
  "language_info": {
   "codemirror_mode": {
    "name": "ipython",
    "version": 3
   },
   "file_extension": ".py",
   "mimetype": "text/x-python",
   "name": "python",
   "nbconvert_exporter": "python",
   "pygments_lexer": "ipython3",
   "version": "3.9.12"
  }
 },
 "nbformat": 4,
 "nbformat_minor": 5
}
