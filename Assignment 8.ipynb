{
 "cells": [
  {
   "cell_type": "markdown",
   "id": "24a1c87c",
   "metadata": {},
   "source": [
    "__1. Is the Python Standard Library included with PyInputPlus?__"
   ]
  },
  {
   "cell_type": "markdown",
   "id": "bdc54625",
   "metadata": {},
   "source": [
    " PyInputPlus is not a part of the Python Standard Library, so you must install it separately using Pip"
   ]
  },
  {
   "cell_type": "markdown",
   "id": "643080e8",
   "metadata": {},
   "source": [
    "__2. Why is PyInputPlus commonly imported with import pyinputplus as pypi?__"
   ]
  },
  {
   "cell_type": "markdown",
   "id": "9aa26313",
   "metadata": {},
   "source": [
    "pypi is alias of PyInputPlus. The as pyip code in the import statement saves us from typing pyinputplus each time we want to call a PyInputPlus function. Instead we can use the shorter pyip name__"
   ]
  },
  {
   "cell_type": "markdown",
   "id": "7a54e13f",
   "metadata": {},
   "source": [
    "__3. How do you distinguish between inputInt() and inputFloat()?__"
   ]
  },
  {
   "cell_type": "markdown",
   "id": "807519a8",
   "metadata": {},
   "source": [
    "inputInt() is for integers i.e number without decimal\n",
    "\n",
    "where as inputFloat() belongs to float class i.e with decimal."
   ]
  },
  {
   "cell_type": "markdown",
   "id": "1e319c26",
   "metadata": {},
   "source": [
    "__4. Using PyInputPlus, how do you ensure that the user enters a whole number between 0 and 99?__"
   ]
  },
  {
   "cell_type": "code",
   "execution_count": 4,
   "id": "9ff77b00",
   "metadata": {},
   "outputs": [
    {
     "name": "stdout",
     "output_type": "stream",
     "text": [
      " 4 5\n",
      "'4 5' is not an integer.\n",
      "3.4\n",
      "'3.4' is not an integer.\n",
      "4\n",
      "4\n"
     ]
    },
    {
     "data": {
      "text/plain": [
       "4.0"
      ]
     },
     "execution_count": 4,
     "metadata": {},
     "output_type": "execute_result"
    }
   ],
   "source": [
    "import pyinputplus as pyip\n",
    "pyip.inputInt()\n",
    "pyip.inputFloat()"
   ]
  },
  {
   "cell_type": "markdown",
   "id": "9813458a",
   "metadata": {},
   "source": [
    "__5. What is transferred to the keyword arguments allowRegexes and blockRegexes?__"
   ]
  },
  {
   "cell_type": "markdown",
   "id": "64197bcd",
   "metadata": {},
   "source": [
    "we can use allowRegexes and blockRegexes keyword arguments to take list of regular expression strings to determine\n",
    "\n",
    "what the pyinputplus function will reject or accept valid input."
   ]
  },
  {
   "cell_type": "code",
   "execution_count": null,
   "id": "4b5a833c",
   "metadata": {},
   "outputs": [],
   "source": [
    "#for example:\n",
    "import pyinputplus as pyip\n",
    "a = pyip.inputStr(allowRegexes=[r'data ', 'science'],blockRegexes=[r'slot'])        "
   ]
  },
  {
   "cell_type": "markdown",
   "id": "80490662",
   "metadata": {},
   "source": [
    "__-6. If a blank input is entered three times, what does inputStr(limit=3) do?__"
   ]
  },
  {
   "cell_type": "code",
   "execution_count": null,
   "id": "ad38edb2",
   "metadata": {},
   "outputs": [],
   "source": [
    " It will throw RetryLimitException exception."
   ]
  },
  {
   "cell_type": "markdown",
   "id": "284e5b59",
   "metadata": {},
   "source": [
    "__7. If blank input is entered three times, what does inputStr(limit=3, default='hello') do?__"
   ]
  },
  {
   "cell_type": "markdown",
   "id": "c09fca78",
   "metadata": {},
   "source": [
    "Instead of raising RetryLimitException, the inputNum() function simply returns the string 'hello'.\n",
    "\n"
   ]
  },
  {
   "cell_type": "code",
   "execution_count": null,
   "id": "666ec2be",
   "metadata": {},
   "outputs": [],
   "source": []
  }
 ],
 "metadata": {
  "kernelspec": {
   "display_name": "Python 3 (ipykernel)",
   "language": "python",
   "name": "python3"
  },
  "language_info": {
   "codemirror_mode": {
    "name": "ipython",
    "version": 3
   },
   "file_extension": ".py",
   "mimetype": "text/x-python",
   "name": "python",
   "nbconvert_exporter": "python",
   "pygments_lexer": "ipython3",
   "version": "3.9.12"
  }
 },
 "nbformat": 4,
 "nbformat_minor": 5
}
