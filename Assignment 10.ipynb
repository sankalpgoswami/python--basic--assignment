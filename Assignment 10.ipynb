{
 "cells": [
  {
   "cell_type": "markdown",
   "id": "c589023f",
   "metadata": {},
   "source": [
    "__1. How do you distinguish between shutil.copy() and shutil.copytree()?__"
   ]
  },
  {
   "cell_type": "markdown",
   "id": "7f1c0e9a",
   "metadata": {},
   "source": [
    "shutil.copytree() will copy entire folder like branchers of trees\n",
    "\n",
    "whereas shutil.copy() will copy only single folder"
   ]
  },
  {
   "cell_type": "markdown",
   "id": "142711a5",
   "metadata": {},
   "source": [
    "__2. What function is used to rename files??__"
   ]
  },
  {
   "cell_type": "markdown",
   "id": "b7b8efe7",
   "metadata": {},
   "source": [
    "First import os module then use os.rename() to rename a file."
   ]
  },
  {
   "cell_type": "markdown",
   "id": "35ddad3f",
   "metadata": {},
   "source": [
    "__3. What is the difference between the delete functions in the send2trash and shutil modules?__"
   ]
  },
  {
   "cell_type": "markdown",
   "id": "46b5b4b8",
   "metadata": {},
   "source": [
    "send2trash sends file to recycle bin\n",
    "\n",
    "shutil module deletes file permanantly."
   ]
  },
  {
   "cell_type": "markdown",
   "id": "f14b162d",
   "metadata": {},
   "source": [
    "__4.ZipFile objects have a close() method just like File objects’ close() method.what ZipFile method is equivalent to File objects’ open() method?__"
   ]
  },
  {
   "cell_type": "markdown",
   "id": "1bdfaec3",
   "metadata": {},
   "source": [
    "to open or write to a zipfile we use 'w' as second argument similar to file objects open()"
   ]
  },
  {
   "cell_type": "code",
   "execution_count": 8,
   "id": "289abdc5",
   "metadata": {},
   "outputs": [],
   "source": [
    "import zipfile as zf\n",
    "a = zf.ZipFile(\"ccc.zip\",'w')\n",
    "a.close()\n"
   ]
  },
  {
   "cell_type": "markdown",
   "id": "d91ed3ed",
   "metadata": {},
   "source": [
    "__5. Create a programme that searches a folder tree for files with a certain file extension (such as .pdf or .jpg). Copy these files from whatever location they are in to a new folder.__"
   ]
  },
  {
   "cell_type": "markdown",
   "id": "b37a7b24",
   "metadata": {},
   "source": [
    "import os \n",
    "\n",
    "import shutil"
   ]
  },
  {
   "cell_type": "code",
   "execution_count": 10,
   "id": "69aeb603",
   "metadata": {},
   "outputs": [
    {
     "name": "stdout",
     "output_type": "stream",
     "text": [
      "searching --> C:\\Users\\SANKALP\\randomfolder for ['.pdf', '.jpg'] file\n"
     ]
    }
   ],
   "source": [
    "import os , shutil\n",
    "\n",
    "\n",
    "def search_and_copy(folder, extensions, destFolder):\n",
    "    folder = os.path.abspath(folder)\n",
    "    destFolder = os.path.abspath(destFolder)\n",
    "    print('searching --> {} for {} file'.format(folder,extensions))\n",
    "    for foldername, subfolders, filenames in os.walk(folder):\n",
    "        for filename in filenames:\n",
    "            name, extension = os.path.splitext(filename)\n",
    "            if extension in extensions:\n",
    "                fileAbsPath = foldername + os.path.sep + filename\n",
    "                print('Coping', fileAbsPath, 'to', destFolder)\n",
    "                shutil.copy(fileAbsPath, destFolder)\n",
    "\n",
    "extensions = ['.pdf','.jpg']\n",
    "folder = 'randomfolder'\n",
    "destFolder = 'destination'\n",
    "search_and_copy(folder, extensions, destFolder)"
   ]
  },
  {
   "cell_type": "code",
   "execution_count": null,
   "id": "f94d2a2f",
   "metadata": {},
   "outputs": [],
   "source": []
  }
 ],
 "metadata": {
  "kernelspec": {
   "display_name": "Python 3 (ipykernel)",
   "language": "python",
   "name": "python3"
  },
  "language_info": {
   "codemirror_mode": {
    "name": "ipython",
    "version": 3
   },
   "file_extension": ".py",
   "mimetype": "text/x-python",
   "name": "python",
   "nbconvert_exporter": "python",
   "pygments_lexer": "ipython3",
   "version": "3.9.12"
  }
 },
 "nbformat": 4,
 "nbformat_minor": 5
}
